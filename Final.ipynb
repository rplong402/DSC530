{
 "cells": [
  {
   "cell_type": "code",
   "execution_count": 1,
   "metadata": {},
   "outputs": [],
   "source": [
    "# import libraries / modules\n",
    "import pandas as pd\n",
    "import numpy as np\n",
    "import thinkstats2\n",
    "import thinkplot\n",
    "import statsmodels.formula.api as smf\n",
    "from thinkstats2 import Mean, MeanVar, Var, Std, Cov"
   ]
  },
  {
   "cell_type": "code",
   "execution_count": 2,
   "metadata": {},
   "outputs": [],
   "source": [
    "# import data\n",
    "df=pd.read_csv(\"DSM2019.csv\")"
   ]
  },
  {
   "cell_type": "code",
   "execution_count": 3,
   "metadata": {},
   "outputs": [
    {
     "data": {
      "text/html": [
       "<div>\n",
       "<style scoped>\n",
       "    .dataframe tbody tr th:only-of-type {\n",
       "        vertical-align: middle;\n",
       "    }\n",
       "\n",
       "    .dataframe tbody tr th {\n",
       "        vertical-align: top;\n",
       "    }\n",
       "\n",
       "    .dataframe thead th {\n",
       "        text-align: right;\n",
       "    }\n",
       "</style>\n",
       "<table border=\"1\" class=\"dataframe\">\n",
       "  <thead>\n",
       "    <tr style=\"text-align: right;\">\n",
       "      <th></th>\n",
       "      <th>PLACE</th>\n",
       "      <th>FNAME</th>\n",
       "      <th>LNAME</th>\n",
       "      <th>DIV</th>\n",
       "      <th>DIV PL</th>\n",
       "      <th>10K</th>\n",
       "      <th>HALF</th>\n",
       "      <th>20MI</th>\n",
       "      <th>LAST_10K</th>\n",
       "      <th>PACE</th>\n",
       "      <th>TIME</th>\n",
       "    </tr>\n",
       "  </thead>\n",
       "  <tbody>\n",
       "    <tr>\n",
       "      <td>0</td>\n",
       "      <td>1</td>\n",
       "      <td>William</td>\n",
       "      <td>Mutai</td>\n",
       "      <td>M3539</td>\n",
       "      <td>1/137</td>\n",
       "      <td>0:33:05</td>\n",
       "      <td>1:10:23</td>\n",
       "      <td>1:49:02</td>\n",
       "      <td>0:33:59</td>\n",
       "      <td>0:05:28</td>\n",
       "      <td>2:23:01</td>\n",
       "    </tr>\n",
       "    <tr>\n",
       "      <td>1</td>\n",
       "      <td>2</td>\n",
       "      <td>Sammy</td>\n",
       "      <td>Rotich</td>\n",
       "      <td>M3034</td>\n",
       "      <td>1/124</td>\n",
       "      <td>0:33:06</td>\n",
       "      <td>1:10:23</td>\n",
       "      <td>1:48:57</td>\n",
       "      <td>0:34:30</td>\n",
       "      <td>0:05:29</td>\n",
       "      <td>2:23:26</td>\n",
       "    </tr>\n",
       "    <tr>\n",
       "      <td>2</td>\n",
       "      <td>3</td>\n",
       "      <td>Steve</td>\n",
       "      <td>Froeschle</td>\n",
       "      <td>M2529</td>\n",
       "      <td>1/95</td>\n",
       "      <td>0:34:23</td>\n",
       "      <td>1:12:56</td>\n",
       "      <td>1:51:54</td>\n",
       "      <td>0:35:10</td>\n",
       "      <td>0:05:37</td>\n",
       "      <td>2:27:04</td>\n",
       "    </tr>\n",
       "    <tr>\n",
       "      <td>3</td>\n",
       "      <td>4</td>\n",
       "      <td>Dan</td>\n",
       "      <td>Froeschle</td>\n",
       "      <td>M2529</td>\n",
       "      <td>2/95</td>\n",
       "      <td>0:34:22</td>\n",
       "      <td>1:12:55</td>\n",
       "      <td>1:53:38</td>\n",
       "      <td>0:37:06</td>\n",
       "      <td>0:05:46</td>\n",
       "      <td>2:30:44</td>\n",
       "    </tr>\n",
       "    <tr>\n",
       "      <td>4</td>\n",
       "      <td>5</td>\n",
       "      <td>David</td>\n",
       "      <td>Tuwei</td>\n",
       "      <td>M4044</td>\n",
       "      <td>1/99</td>\n",
       "      <td>0:34:28</td>\n",
       "      <td>1:14:27</td>\n",
       "      <td>1:57:13</td>\n",
       "      <td>0:36:07</td>\n",
       "      <td>0:05:52</td>\n",
       "      <td>2:33:20</td>\n",
       "    </tr>\n",
       "  </tbody>\n",
       "</table>\n",
       "</div>"
      ],
      "text/plain": [
       "   PLACE    FNAME      LNAME    DIV DIV PL      10K     HALF     20MI  \\\n",
       "0      1  William      Mutai  M3539  1/137  0:33:05  1:10:23  1:49:02   \n",
       "1      2    Sammy     Rotich  M3034  1/124  0:33:06  1:10:23  1:48:57   \n",
       "2      3    Steve  Froeschle  M2529   1/95  0:34:23  1:12:56  1:51:54   \n",
       "3      4      Dan  Froeschle  M2529   2/95  0:34:22  1:12:55  1:53:38   \n",
       "4      5    David      Tuwei  M4044   1/99  0:34:28  1:14:27  1:57:13   \n",
       "\n",
       "  LAST_10K     PACE     TIME  \n",
       "0  0:33:59  0:05:28  2:23:01  \n",
       "1  0:34:30  0:05:29  2:23:26  \n",
       "2  0:35:10  0:05:37  2:27:04  \n",
       "3  0:37:06  0:05:46  2:30:44  \n",
       "4  0:36:07  0:05:52  2:33:20  "
      ]
     },
     "execution_count": 3,
     "metadata": {},
     "output_type": "execute_result"
    }
   ],
   "source": [
    "# brief check of data to confirm import\n",
    "df.head()"
   ]
  },
  {
   "cell_type": "code",
   "execution_count": 4,
   "metadata": {},
   "outputs": [
    {
     "data": {
      "text/plain": [
       "PLACE        int64\n",
       "FNAME       object\n",
       "LNAME       object\n",
       "DIV         object\n",
       "DIV PL      object\n",
       "10K         object\n",
       "HALF        object\n",
       "20MI        object\n",
       "LAST_10K    object\n",
       "PACE        object\n",
       "TIME        object\n",
       "dtype: object"
      ]
     },
     "execution_count": 4,
     "metadata": {},
     "output_type": "execute_result"
    }
   ],
   "source": [
    "# determine imported data types\n",
    "df.dtypes"
   ]
  },
  {
   "cell_type": "code",
   "execution_count": 5,
   "metadata": {},
   "outputs": [],
   "source": [
    "# change the time fields to read as time\n",
    "df[[\"10K\",\"HALF\",\"20MI\",\"LAST_10K\",\"PACE\",\"TIME\"]] = df[[\"10K\",\"HALF\",\"20MI\",\"LAST_10K\",\"PACE\",\"TIME\"]].apply(pd.to_timedelta)"
   ]
  },
  {
   "cell_type": "code",
   "execution_count": 6,
   "metadata": {},
   "outputs": [
    {
     "name": "stdout",
     "output_type": "stream",
     "text": [
      "<class 'pandas.core.frame.DataFrame'>\n",
      "RangeIndex: 1276 entries, 0 to 1275\n",
      "Data columns (total 11 columns):\n",
      "PLACE       1276 non-null int64\n",
      "FNAME       1276 non-null object\n",
      "LNAME       1276 non-null object\n",
      "DIV         1275 non-null object\n",
      "DIV PL      1276 non-null object\n",
      "10K         1276 non-null timedelta64[ns]\n",
      "HALF        1276 non-null timedelta64[ns]\n",
      "20MI        1276 non-null timedelta64[ns]\n",
      "LAST_10K    1276 non-null timedelta64[ns]\n",
      "PACE        1276 non-null timedelta64[ns]\n",
      "TIME        1276 non-null timedelta64[ns]\n",
      "dtypes: int64(1), object(4), timedelta64[ns](6)\n",
      "memory usage: 109.8+ KB\n"
     ]
    }
   ],
   "source": [
    "# confirm changes, get more info on data frame\n",
    "df.info()"
   ]
  },
  {
   "cell_type": "markdown",
   "metadata": {},
   "source": [
    "### A minimum of 5 variables in your dataset used during your analysis (for help with selecting, the author made his selection on page 6 of your book). Consider what you think could have an impact on your question – remember this is never perfect, so don’t be worried if you miss one (Chapter 1). Describe what the 5 variables mean in the dataset (Chapter 1)."
   ]
  },
  {
   "cell_type": "code",
   "execution_count": 7,
   "metadata": {},
   "outputs": [],
   "source": [
    "# variable creation, description noted below\n",
    "\n",
    "df['SHALF'] = df['TIME']-df['HALF'] # calculates time for second half of race\n",
    "df['AVGPCE'] = df['PACE'] / np.timedelta64(1, 's') # converts average pace for entire race into seconds\n",
    "df['FSTPCE'] = (df['HALF']/13.1) / np.timedelta64(1, 's') # converts average pace for first half into seconds\n",
    "df['SNDPCE'] = (df['SHALF']/13.1) / np.timedelta64(1, 's') # calculates average pace the second half and converts to seconds\n",
    "df['DIFF'] = df['SNDPCE']-df['FSTPCE'] #difference between 1st half pace and 2nd half pace, negative meaning faster 2nd half\n",
    "df['FSTQ'] = (df['10K']/6.21371) / np.timedelta64(1, 's') # converts average pace first 10K into seconds\n",
    "df['SNDQ'] = ((df['HALF']-df['10K'])/(13.1-6.21371)) / np.timedelta64(1, 's') # calculates pace for 6.88629 miles after 10k\n",
    "df['TRDQ'] = ((df['20MI']-df['HALF'])/(20-13.1)) / np.timedelta64(1, 's') # calculates pace for 6.9 miles after half\n",
    "df['FTHQ'] = ((df['TIME']-df['20MI'])/(6.21371)) / np.timedelta64(1, 's') # calculates pace for last 10\n",
    "df['PACING'] = np.where(df['FSTPCE']>=df['SNDPCE'],'Neg','Pos') # adds a category based on pacing execution"
   ]
  },
  {
   "cell_type": "code",
   "execution_count": 8,
   "metadata": {},
   "outputs": [
    {
     "data": {
      "text/html": [
       "<div>\n",
       "<style scoped>\n",
       "    .dataframe tbody tr th:only-of-type {\n",
       "        vertical-align: middle;\n",
       "    }\n",
       "\n",
       "    .dataframe tbody tr th {\n",
       "        vertical-align: top;\n",
       "    }\n",
       "\n",
       "    .dataframe thead th {\n",
       "        text-align: right;\n",
       "    }\n",
       "</style>\n",
       "<table border=\"1\" class=\"dataframe\">\n",
       "  <thead>\n",
       "    <tr style=\"text-align: right;\">\n",
       "      <th></th>\n",
       "      <th>PLACE</th>\n",
       "      <th>FNAME</th>\n",
       "      <th>LNAME</th>\n",
       "      <th>DIV</th>\n",
       "      <th>DIV PL</th>\n",
       "      <th>10K</th>\n",
       "      <th>HALF</th>\n",
       "      <th>20MI</th>\n",
       "      <th>LAST_10K</th>\n",
       "      <th>PACE</th>\n",
       "      <th>...</th>\n",
       "      <th>SHALF</th>\n",
       "      <th>AVGPCE</th>\n",
       "      <th>FSTPCE</th>\n",
       "      <th>SNDPCE</th>\n",
       "      <th>DIFF</th>\n",
       "      <th>FSTQ</th>\n",
       "      <th>SNDQ</th>\n",
       "      <th>TRDQ</th>\n",
       "      <th>FTHQ</th>\n",
       "      <th>PACING</th>\n",
       "    </tr>\n",
       "  </thead>\n",
       "  <tbody>\n",
       "    <tr>\n",
       "      <td>0</td>\n",
       "      <td>1</td>\n",
       "      <td>William</td>\n",
       "      <td>Mutai</td>\n",
       "      <td>M3539</td>\n",
       "      <td>1/137</td>\n",
       "      <td>00:33:05</td>\n",
       "      <td>01:10:23</td>\n",
       "      <td>01:49:02</td>\n",
       "      <td>00:33:59</td>\n",
       "      <td>00:05:28</td>\n",
       "      <td>...</td>\n",
       "      <td>01:12:38</td>\n",
       "      <td>328.0</td>\n",
       "      <td>322.366412</td>\n",
       "      <td>332.671756</td>\n",
       "      <td>10.305344</td>\n",
       "      <td>319.454883</td>\n",
       "      <td>324.993574</td>\n",
       "      <td>336.086957</td>\n",
       "      <td>328.145343</td>\n",
       "      <td>Pos</td>\n",
       "    </tr>\n",
       "    <tr>\n",
       "      <td>1</td>\n",
       "      <td>2</td>\n",
       "      <td>Sammy</td>\n",
       "      <td>Rotich</td>\n",
       "      <td>M3034</td>\n",
       "      <td>1/124</td>\n",
       "      <td>00:33:06</td>\n",
       "      <td>01:10:23</td>\n",
       "      <td>01:48:57</td>\n",
       "      <td>00:34:30</td>\n",
       "      <td>00:05:29</td>\n",
       "      <td>...</td>\n",
       "      <td>01:13:03</td>\n",
       "      <td>329.0</td>\n",
       "      <td>322.366412</td>\n",
       "      <td>334.580153</td>\n",
       "      <td>12.213740</td>\n",
       "      <td>319.615817</td>\n",
       "      <td>324.848358</td>\n",
       "      <td>335.362319</td>\n",
       "      <td>332.973377</td>\n",
       "      <td>Pos</td>\n",
       "    </tr>\n",
       "    <tr>\n",
       "      <td>2</td>\n",
       "      <td>3</td>\n",
       "      <td>Steve</td>\n",
       "      <td>Froeschle</td>\n",
       "      <td>M2529</td>\n",
       "      <td>1/95</td>\n",
       "      <td>00:34:23</td>\n",
       "      <td>01:12:56</td>\n",
       "      <td>01:51:54</td>\n",
       "      <td>00:35:10</td>\n",
       "      <td>00:05:37</td>\n",
       "      <td>...</td>\n",
       "      <td>01:14:08</td>\n",
       "      <td>337.0</td>\n",
       "      <td>334.045802</td>\n",
       "      <td>339.541985</td>\n",
       "      <td>5.496183</td>\n",
       "      <td>332.007770</td>\n",
       "      <td>335.884780</td>\n",
       "      <td>338.840580</td>\n",
       "      <td>339.571689</td>\n",
       "      <td>Pos</td>\n",
       "    </tr>\n",
       "    <tr>\n",
       "      <td>3</td>\n",
       "      <td>4</td>\n",
       "      <td>Dan</td>\n",
       "      <td>Froeschle</td>\n",
       "      <td>M2529</td>\n",
       "      <td>2/95</td>\n",
       "      <td>00:34:22</td>\n",
       "      <td>01:12:55</td>\n",
       "      <td>01:53:38</td>\n",
       "      <td>00:37:06</td>\n",
       "      <td>00:05:46</td>\n",
       "      <td>...</td>\n",
       "      <td>01:17:49</td>\n",
       "      <td>346.0</td>\n",
       "      <td>333.969466</td>\n",
       "      <td>356.412214</td>\n",
       "      <td>22.442748</td>\n",
       "      <td>331.846835</td>\n",
       "      <td>335.884780</td>\n",
       "      <td>354.057971</td>\n",
       "      <td>358.240085</td>\n",
       "      <td>Pos</td>\n",
       "    </tr>\n",
       "    <tr>\n",
       "      <td>4</td>\n",
       "      <td>5</td>\n",
       "      <td>David</td>\n",
       "      <td>Tuwei</td>\n",
       "      <td>M4044</td>\n",
       "      <td>1/99</td>\n",
       "      <td>00:34:28</td>\n",
       "      <td>01:14:27</td>\n",
       "      <td>01:57:13</td>\n",
       "      <td>00:36:07</td>\n",
       "      <td>00:05:52</td>\n",
       "      <td>...</td>\n",
       "      <td>01:18:53</td>\n",
       "      <td>352.0</td>\n",
       "      <td>340.992366</td>\n",
       "      <td>361.297710</td>\n",
       "      <td>20.305344</td>\n",
       "      <td>332.812442</td>\n",
       "      <td>348.373362</td>\n",
       "      <td>371.884058</td>\n",
       "      <td>348.744953</td>\n",
       "      <td>Pos</td>\n",
       "    </tr>\n",
       "  </tbody>\n",
       "</table>\n",
       "<p>5 rows × 21 columns</p>\n",
       "</div>"
      ],
      "text/plain": [
       "   PLACE    FNAME      LNAME    DIV DIV PL      10K     HALF     20MI  \\\n",
       "0      1  William      Mutai  M3539  1/137 00:33:05 01:10:23 01:49:02   \n",
       "1      2    Sammy     Rotich  M3034  1/124 00:33:06 01:10:23 01:48:57   \n",
       "2      3    Steve  Froeschle  M2529   1/95 00:34:23 01:12:56 01:51:54   \n",
       "3      4      Dan  Froeschle  M2529   2/95 00:34:22 01:12:55 01:53:38   \n",
       "4      5    David      Tuwei  M4044   1/99 00:34:28 01:14:27 01:57:13   \n",
       "\n",
       "  LAST_10K     PACE  ...    SHALF AVGPCE      FSTPCE      SNDPCE       DIFF  \\\n",
       "0 00:33:59 00:05:28  ... 01:12:38  328.0  322.366412  332.671756  10.305344   \n",
       "1 00:34:30 00:05:29  ... 01:13:03  329.0  322.366412  334.580153  12.213740   \n",
       "2 00:35:10 00:05:37  ... 01:14:08  337.0  334.045802  339.541985   5.496183   \n",
       "3 00:37:06 00:05:46  ... 01:17:49  346.0  333.969466  356.412214  22.442748   \n",
       "4 00:36:07 00:05:52  ... 01:18:53  352.0  340.992366  361.297710  20.305344   \n",
       "\n",
       "         FSTQ        SNDQ        TRDQ        FTHQ  PACING  \n",
       "0  319.454883  324.993574  336.086957  328.145343     Pos  \n",
       "1  319.615817  324.848358  335.362319  332.973377     Pos  \n",
       "2  332.007770  335.884780  338.840580  339.571689     Pos  \n",
       "3  331.846835  335.884780  354.057971  358.240085     Pos  \n",
       "4  332.812442  348.373362  371.884058  348.744953     Pos  \n",
       "\n",
       "[5 rows x 21 columns]"
      ]
     },
     "execution_count": 8,
     "metadata": {},
     "output_type": "execute_result"
    }
   ],
   "source": [
    "# confirm variable creation\n",
    "df.head()"
   ]
  },
  {
   "cell_type": "code",
   "execution_count": 9,
   "metadata": {},
   "outputs": [],
   "source": [
    "#Create two dataframes based on Positive and Negative from 'Pacing' column\n",
    "dfp = df[df.PACING == 'Pos']\n",
    "dfn = df[df.PACING == 'Neg']"
   ]
  },
  {
   "cell_type": "code",
   "execution_count": 10,
   "metadata": {},
   "outputs": [
    {
     "data": {
      "text/html": [
       "<div>\n",
       "<style scoped>\n",
       "    .dataframe tbody tr th:only-of-type {\n",
       "        vertical-align: middle;\n",
       "    }\n",
       "\n",
       "    .dataframe tbody tr th {\n",
       "        vertical-align: top;\n",
       "    }\n",
       "\n",
       "    .dataframe thead th {\n",
       "        text-align: right;\n",
       "    }\n",
       "</style>\n",
       "<table border=\"1\" class=\"dataframe\">\n",
       "  <thead>\n",
       "    <tr style=\"text-align: right;\">\n",
       "      <th></th>\n",
       "      <th>PLACE</th>\n",
       "      <th>FNAME</th>\n",
       "      <th>LNAME</th>\n",
       "      <th>DIV</th>\n",
       "      <th>DIV PL</th>\n",
       "      <th>10K</th>\n",
       "      <th>HALF</th>\n",
       "      <th>20MI</th>\n",
       "      <th>LAST_10K</th>\n",
       "      <th>PACE</th>\n",
       "      <th>...</th>\n",
       "      <th>SHALF</th>\n",
       "      <th>AVGPCE</th>\n",
       "      <th>FSTPCE</th>\n",
       "      <th>SNDPCE</th>\n",
       "      <th>DIFF</th>\n",
       "      <th>FSTQ</th>\n",
       "      <th>SNDQ</th>\n",
       "      <th>TRDQ</th>\n",
       "      <th>FTHQ</th>\n",
       "      <th>PACING</th>\n",
       "    </tr>\n",
       "  </thead>\n",
       "  <tbody>\n",
       "    <tr>\n",
       "      <td>0</td>\n",
       "      <td>1</td>\n",
       "      <td>William</td>\n",
       "      <td>Mutai</td>\n",
       "      <td>M3539</td>\n",
       "      <td>1/137</td>\n",
       "      <td>00:33:05</td>\n",
       "      <td>01:10:23</td>\n",
       "      <td>01:49:02</td>\n",
       "      <td>00:33:59</td>\n",
       "      <td>00:05:28</td>\n",
       "      <td>...</td>\n",
       "      <td>01:12:38</td>\n",
       "      <td>328.0</td>\n",
       "      <td>322.366412</td>\n",
       "      <td>332.671756</td>\n",
       "      <td>10.305344</td>\n",
       "      <td>319.454883</td>\n",
       "      <td>324.993574</td>\n",
       "      <td>336.086957</td>\n",
       "      <td>328.145343</td>\n",
       "      <td>Pos</td>\n",
       "    </tr>\n",
       "    <tr>\n",
       "      <td>1</td>\n",
       "      <td>2</td>\n",
       "      <td>Sammy</td>\n",
       "      <td>Rotich</td>\n",
       "      <td>M3034</td>\n",
       "      <td>1/124</td>\n",
       "      <td>00:33:06</td>\n",
       "      <td>01:10:23</td>\n",
       "      <td>01:48:57</td>\n",
       "      <td>00:34:30</td>\n",
       "      <td>00:05:29</td>\n",
       "      <td>...</td>\n",
       "      <td>01:13:03</td>\n",
       "      <td>329.0</td>\n",
       "      <td>322.366412</td>\n",
       "      <td>334.580153</td>\n",
       "      <td>12.213740</td>\n",
       "      <td>319.615817</td>\n",
       "      <td>324.848358</td>\n",
       "      <td>335.362319</td>\n",
       "      <td>332.973377</td>\n",
       "      <td>Pos</td>\n",
       "    </tr>\n",
       "    <tr>\n",
       "      <td>2</td>\n",
       "      <td>3</td>\n",
       "      <td>Steve</td>\n",
       "      <td>Froeschle</td>\n",
       "      <td>M2529</td>\n",
       "      <td>1/95</td>\n",
       "      <td>00:34:23</td>\n",
       "      <td>01:12:56</td>\n",
       "      <td>01:51:54</td>\n",
       "      <td>00:35:10</td>\n",
       "      <td>00:05:37</td>\n",
       "      <td>...</td>\n",
       "      <td>01:14:08</td>\n",
       "      <td>337.0</td>\n",
       "      <td>334.045802</td>\n",
       "      <td>339.541985</td>\n",
       "      <td>5.496183</td>\n",
       "      <td>332.007770</td>\n",
       "      <td>335.884780</td>\n",
       "      <td>338.840580</td>\n",
       "      <td>339.571689</td>\n",
       "      <td>Pos</td>\n",
       "    </tr>\n",
       "    <tr>\n",
       "      <td>3</td>\n",
       "      <td>4</td>\n",
       "      <td>Dan</td>\n",
       "      <td>Froeschle</td>\n",
       "      <td>M2529</td>\n",
       "      <td>2/95</td>\n",
       "      <td>00:34:22</td>\n",
       "      <td>01:12:55</td>\n",
       "      <td>01:53:38</td>\n",
       "      <td>00:37:06</td>\n",
       "      <td>00:05:46</td>\n",
       "      <td>...</td>\n",
       "      <td>01:17:49</td>\n",
       "      <td>346.0</td>\n",
       "      <td>333.969466</td>\n",
       "      <td>356.412214</td>\n",
       "      <td>22.442748</td>\n",
       "      <td>331.846835</td>\n",
       "      <td>335.884780</td>\n",
       "      <td>354.057971</td>\n",
       "      <td>358.240085</td>\n",
       "      <td>Pos</td>\n",
       "    </tr>\n",
       "    <tr>\n",
       "      <td>4</td>\n",
       "      <td>5</td>\n",
       "      <td>David</td>\n",
       "      <td>Tuwei</td>\n",
       "      <td>M4044</td>\n",
       "      <td>1/99</td>\n",
       "      <td>00:34:28</td>\n",
       "      <td>01:14:27</td>\n",
       "      <td>01:57:13</td>\n",
       "      <td>00:36:07</td>\n",
       "      <td>00:05:52</td>\n",
       "      <td>...</td>\n",
       "      <td>01:18:53</td>\n",
       "      <td>352.0</td>\n",
       "      <td>340.992366</td>\n",
       "      <td>361.297710</td>\n",
       "      <td>20.305344</td>\n",
       "      <td>332.812442</td>\n",
       "      <td>348.373362</td>\n",
       "      <td>371.884058</td>\n",
       "      <td>348.744953</td>\n",
       "      <td>Pos</td>\n",
       "    </tr>\n",
       "  </tbody>\n",
       "</table>\n",
       "<p>5 rows × 21 columns</p>\n",
       "</div>"
      ],
      "text/plain": [
       "   PLACE    FNAME      LNAME    DIV DIV PL      10K     HALF     20MI  \\\n",
       "0      1  William      Mutai  M3539  1/137 00:33:05 01:10:23 01:49:02   \n",
       "1      2    Sammy     Rotich  M3034  1/124 00:33:06 01:10:23 01:48:57   \n",
       "2      3    Steve  Froeschle  M2529   1/95 00:34:23 01:12:56 01:51:54   \n",
       "3      4      Dan  Froeschle  M2529   2/95 00:34:22 01:12:55 01:53:38   \n",
       "4      5    David      Tuwei  M4044   1/99 00:34:28 01:14:27 01:57:13   \n",
       "\n",
       "  LAST_10K     PACE  ...    SHALF AVGPCE      FSTPCE      SNDPCE       DIFF  \\\n",
       "0 00:33:59 00:05:28  ... 01:12:38  328.0  322.366412  332.671756  10.305344   \n",
       "1 00:34:30 00:05:29  ... 01:13:03  329.0  322.366412  334.580153  12.213740   \n",
       "2 00:35:10 00:05:37  ... 01:14:08  337.0  334.045802  339.541985   5.496183   \n",
       "3 00:37:06 00:05:46  ... 01:17:49  346.0  333.969466  356.412214  22.442748   \n",
       "4 00:36:07 00:05:52  ... 01:18:53  352.0  340.992366  361.297710  20.305344   \n",
       "\n",
       "         FSTQ        SNDQ        TRDQ        FTHQ  PACING  \n",
       "0  319.454883  324.993574  336.086957  328.145343     Pos  \n",
       "1  319.615817  324.848358  335.362319  332.973377     Pos  \n",
       "2  332.007770  335.884780  338.840580  339.571689     Pos  \n",
       "3  331.846835  335.884780  354.057971  358.240085     Pos  \n",
       "4  332.812442  348.373362  371.884058  348.744953     Pos  \n",
       "\n",
       "[5 rows x 21 columns]"
      ]
     },
     "execution_count": 10,
     "metadata": {},
     "output_type": "execute_result"
    }
   ],
   "source": [
    "# positive split DF\n",
    "dfp.head()"
   ]
  },
  {
   "cell_type": "code",
   "execution_count": 11,
   "metadata": {},
   "outputs": [
    {
     "data": {
      "text/html": [
       "<div>\n",
       "<style scoped>\n",
       "    .dataframe tbody tr th:only-of-type {\n",
       "        vertical-align: middle;\n",
       "    }\n",
       "\n",
       "    .dataframe tbody tr th {\n",
       "        vertical-align: top;\n",
       "    }\n",
       "\n",
       "    .dataframe thead th {\n",
       "        text-align: right;\n",
       "    }\n",
       "</style>\n",
       "<table border=\"1\" class=\"dataframe\">\n",
       "  <thead>\n",
       "    <tr style=\"text-align: right;\">\n",
       "      <th></th>\n",
       "      <th>PLACE</th>\n",
       "      <th>FNAME</th>\n",
       "      <th>LNAME</th>\n",
       "      <th>DIV</th>\n",
       "      <th>DIV PL</th>\n",
       "      <th>10K</th>\n",
       "      <th>HALF</th>\n",
       "      <th>20MI</th>\n",
       "      <th>LAST_10K</th>\n",
       "      <th>PACE</th>\n",
       "      <th>...</th>\n",
       "      <th>SHALF</th>\n",
       "      <th>AVGPCE</th>\n",
       "      <th>FSTPCE</th>\n",
       "      <th>SNDPCE</th>\n",
       "      <th>DIFF</th>\n",
       "      <th>FSTQ</th>\n",
       "      <th>SNDQ</th>\n",
       "      <th>TRDQ</th>\n",
       "      <th>FTHQ</th>\n",
       "      <th>PACING</th>\n",
       "    </tr>\n",
       "  </thead>\n",
       "  <tbody>\n",
       "    <tr>\n",
       "      <td>5</td>\n",
       "      <td>6</td>\n",
       "      <td>Justin</td>\n",
       "      <td>Vitale</td>\n",
       "      <td>M4044</td>\n",
       "      <td>2/99</td>\n",
       "      <td>00:40:11</td>\n",
       "      <td>01:23:13</td>\n",
       "      <td>02:01:23</td>\n",
       "      <td>00:33:35</td>\n",
       "      <td>00:05:55</td>\n",
       "      <td>...</td>\n",
       "      <td>01:11:44</td>\n",
       "      <td>355.0</td>\n",
       "      <td>381.145038</td>\n",
       "      <td>328.549618</td>\n",
       "      <td>-52.595420</td>\n",
       "      <td>388.012958</td>\n",
       "      <td>374.947904</td>\n",
       "      <td>331.884058</td>\n",
       "      <td>324.121982</td>\n",
       "      <td>Neg</td>\n",
       "    </tr>\n",
       "    <tr>\n",
       "      <td>7</td>\n",
       "      <td>8</td>\n",
       "      <td>Clay</td>\n",
       "      <td>Musial</td>\n",
       "      <td>M2024</td>\n",
       "      <td>2/80</td>\n",
       "      <td>00:37:16</td>\n",
       "      <td>01:19:12</td>\n",
       "      <td>02:01:29</td>\n",
       "      <td>00:35:46</td>\n",
       "      <td>00:06:01</td>\n",
       "      <td>...</td>\n",
       "      <td>01:18:02</td>\n",
       "      <td>361.0</td>\n",
       "      <td>362.748092</td>\n",
       "      <td>357.404580</td>\n",
       "      <td>-5.343511</td>\n",
       "      <td>359.849430</td>\n",
       "      <td>365.363643</td>\n",
       "      <td>367.681159</td>\n",
       "      <td>345.204395</td>\n",
       "      <td>Neg</td>\n",
       "    </tr>\n",
       "    <tr>\n",
       "      <td>13</td>\n",
       "      <td>14</td>\n",
       "      <td>Hiram</td>\n",
       "      <td>Marquez</td>\n",
       "      <td>M2024</td>\n",
       "      <td>5/80</td>\n",
       "      <td>00:39:45</td>\n",
       "      <td>01:22:46</td>\n",
       "      <td>02:05:51</td>\n",
       "      <td>00:37:39</td>\n",
       "      <td>00:06:15</td>\n",
       "      <td>...</td>\n",
       "      <td>01:20:44</td>\n",
       "      <td>375.0</td>\n",
       "      <td>379.083969</td>\n",
       "      <td>369.770992</td>\n",
       "      <td>-9.312977</td>\n",
       "      <td>383.828663</td>\n",
       "      <td>374.802688</td>\n",
       "      <td>374.637681</td>\n",
       "      <td>363.550922</td>\n",
       "      <td>Neg</td>\n",
       "    </tr>\n",
       "    <tr>\n",
       "      <td>14</td>\n",
       "      <td>15</td>\n",
       "      <td>Ethan</td>\n",
       "      <td>Smith</td>\n",
       "      <td>M2024</td>\n",
       "      <td>6/80</td>\n",
       "      <td>00:39:46</td>\n",
       "      <td>01:22:46</td>\n",
       "      <td>02:05:51</td>\n",
       "      <td>00:38:58</td>\n",
       "      <td>00:06:18</td>\n",
       "      <td>...</td>\n",
       "      <td>01:22:02</td>\n",
       "      <td>378.0</td>\n",
       "      <td>379.083969</td>\n",
       "      <td>375.725191</td>\n",
       "      <td>-3.358779</td>\n",
       "      <td>383.989597</td>\n",
       "      <td>374.657472</td>\n",
       "      <td>374.637681</td>\n",
       "      <td>376.103809</td>\n",
       "      <td>Neg</td>\n",
       "    </tr>\n",
       "    <tr>\n",
       "      <td>15</td>\n",
       "      <td>16</td>\n",
       "      <td>Ben</td>\n",
       "      <td>Kipp</td>\n",
       "      <td>M3539</td>\n",
       "      <td>2/137</td>\n",
       "      <td>00:39:46</td>\n",
       "      <td>01:22:47</td>\n",
       "      <td>02:07:08</td>\n",
       "      <td>00:38:25</td>\n",
       "      <td>00:06:20</td>\n",
       "      <td>...</td>\n",
       "      <td>01:22:46</td>\n",
       "      <td>380.0</td>\n",
       "      <td>379.160305</td>\n",
       "      <td>379.083969</td>\n",
       "      <td>-0.076336</td>\n",
       "      <td>383.989597</td>\n",
       "      <td>374.802688</td>\n",
       "      <td>385.652174</td>\n",
       "      <td>370.953907</td>\n",
       "      <td>Neg</td>\n",
       "    </tr>\n",
       "  </tbody>\n",
       "</table>\n",
       "<p>5 rows × 21 columns</p>\n",
       "</div>"
      ],
      "text/plain": [
       "    PLACE   FNAME    LNAME    DIV DIV PL      10K     HALF     20MI LAST_10K  \\\n",
       "5       6  Justin   Vitale  M4044   2/99 00:40:11 01:23:13 02:01:23 00:33:35   \n",
       "7       8    Clay   Musial  M2024   2/80 00:37:16 01:19:12 02:01:29 00:35:46   \n",
       "13     14   Hiram  Marquez  M2024   5/80 00:39:45 01:22:46 02:05:51 00:37:39   \n",
       "14     15   Ethan    Smith  M2024   6/80 00:39:46 01:22:46 02:05:51 00:38:58   \n",
       "15     16     Ben     Kipp  M3539  2/137 00:39:46 01:22:47 02:07:08 00:38:25   \n",
       "\n",
       "       PACE  ...    SHALF AVGPCE      FSTPCE      SNDPCE       DIFF  \\\n",
       "5  00:05:55  ... 01:11:44  355.0  381.145038  328.549618 -52.595420   \n",
       "7  00:06:01  ... 01:18:02  361.0  362.748092  357.404580  -5.343511   \n",
       "13 00:06:15  ... 01:20:44  375.0  379.083969  369.770992  -9.312977   \n",
       "14 00:06:18  ... 01:22:02  378.0  379.083969  375.725191  -3.358779   \n",
       "15 00:06:20  ... 01:22:46  380.0  379.160305  379.083969  -0.076336   \n",
       "\n",
       "          FSTQ        SNDQ        TRDQ        FTHQ  PACING  \n",
       "5   388.012958  374.947904  331.884058  324.121982     Neg  \n",
       "7   359.849430  365.363643  367.681159  345.204395     Neg  \n",
       "13  383.828663  374.802688  374.637681  363.550922     Neg  \n",
       "14  383.989597  374.657472  374.637681  376.103809     Neg  \n",
       "15  383.989597  374.802688  385.652174  370.953907     Neg  \n",
       "\n",
       "[5 rows x 21 columns]"
      ]
     },
     "execution_count": 11,
     "metadata": {},
     "output_type": "execute_result"
    }
   ],
   "source": [
    "# negative split DF\n",
    "dfn.head()"
   ]
  },
  {
   "cell_type": "code",
   "execution_count": 12,
   "metadata": {},
   "outputs": [
    {
     "data": {
      "text/plain": [
       "Pos    1137\n",
       "Neg     139\n",
       "Name: PACING, dtype: int64"
      ]
     },
     "execution_count": 12,
     "metadata": {},
     "output_type": "execute_result"
    }
   ],
   "source": [
    "# HARDLY ANYONE NEGATIVE SPLITS\n",
    "df['PACING'].value_counts()"
   ]
  },
  {
   "cell_type": "code",
   "execution_count": 13,
   "metadata": {},
   "outputs": [
    {
     "data": {
      "text/plain": [
       "PACING\n",
       "Neg    528.769784\n",
       "Pos    618.792436\n",
       "Name: AVGPCE, dtype: float64"
      ]
     },
     "execution_count": 13,
     "metadata": {},
     "output_type": "execute_result"
    }
   ],
   "source": [
    "# determine the mean pace for the groups\n",
    "df.groupby('PACING')['AVGPCE'].mean()"
   ]
  },
  {
   "cell_type": "code",
   "execution_count": 14,
   "metadata": {},
   "outputs": [
    {
     "name": "stdout",
     "output_type": "stream",
     "text": [
      "<class 'pandas.core.frame.DataFrame'>\n",
      "RangeIndex: 1276 entries, 0 to 1275\n",
      "Data columns (total 21 columns):\n",
      "PLACE       1276 non-null int64\n",
      "FNAME       1276 non-null object\n",
      "LNAME       1276 non-null object\n",
      "DIV         1275 non-null object\n",
      "DIV PL      1276 non-null object\n",
      "10K         1276 non-null timedelta64[ns]\n",
      "HALF        1276 non-null timedelta64[ns]\n",
      "20MI        1276 non-null timedelta64[ns]\n",
      "LAST_10K    1276 non-null timedelta64[ns]\n",
      "PACE        1276 non-null timedelta64[ns]\n",
      "TIME        1276 non-null timedelta64[ns]\n",
      "SHALF       1276 non-null timedelta64[ns]\n",
      "AVGPCE      1276 non-null float64\n",
      "FSTPCE      1276 non-null float64\n",
      "SNDPCE      1276 non-null float64\n",
      "DIFF        1276 non-null float64\n",
      "FSTQ        1276 non-null float64\n",
      "SNDQ        1276 non-null float64\n",
      "TRDQ        1276 non-null float64\n",
      "FTHQ        1276 non-null float64\n",
      "PACING      1276 non-null object\n",
      "dtypes: float64(8), int64(1), object(5), timedelta64[ns](7)\n",
      "memory usage: 209.5+ KB\n"
     ]
    }
   ],
   "source": [
    "# check data types after variable creation\n",
    "df.info()"
   ]
  },
  {
   "cell_type": "markdown",
   "metadata": {},
   "source": [
    "### Include a histogram of each of the 5 variables – in your summary and analysis, identify any outliers and explain the reasoning for them being outliers and how you believe they should be handled (Chapter 2)."
   ]
  },
  {
   "cell_type": "code",
   "execution_count": 15,
   "metadata": {},
   "outputs": [
    {
     "data": {
      "text/plain": [
       "array([[<matplotlib.axes._subplots.AxesSubplot object at 0x00000110C000C808>]],\n",
       "      dtype=object)"
      ]
     },
     "execution_count": 15,
     "metadata": {},
     "output_type": "execute_result"
    },
    {
     "data": {
      "image/png": "[encoded data removed]",
      "text/plain": [
       "<Figure size 432x288 with 1 Axes>"
      ]
     },
     "metadata": {
      "needs_background": "light"
     },
     "output_type": "display_data"
    },
    {
     "data": {
      "image/png": "[encoded data removed]",
      "text/plain": [
       "<Figure size 432x288 with 1 Axes>"
      ]
     },
     "metadata": {
      "needs_background": "light"
     },
     "output_type": "display_data"
    },
    {
     "data": {
      "image/png": "[encoded data removed]",
      "text/plain": [
       "<Figure size 432x288 with 1 Axes>"
      ]
     },
     "metadata": {
      "needs_background": "light"
     },
     "output_type": "display_data"
    },
    {
     "data": {
      "image/png": "[encoded data removed]",
      "text/plain": [
       "<Figure size 432x288 with 1 Axes>"
      ]
     },
     "metadata": {
      "needs_background": "light"
     },
     "output_type": "display_data"
    },
    {
     "data": {
      "image/png": "[encoded data removed]",
      "text/plain": [
       "<Figure size 432x288 with 1 Axes>"
      ]
     },
     "metadata": {
      "needs_background": "light"
     },
     "output_type": "display_data"
    },
    {
     "data": {
      "image/png": "[encoded data removed]",
      "text/plain": [
       "<Figure size 432x288 with 1 Axes>"
      ]
     },
     "metadata": {
      "needs_background": "light"
     },
     "output_type": "display_data"
    },
    {
     "data": {
      "image/png": "[encoded data removed]",
      "text/plain": [
       "<Figure size 432x288 with 1 Axes>"
      ]
     },
     "metadata": {
      "needs_background": "light"
     },
     "output_type": "display_data"
    },
    {
     "data": {
      "image/png": "[encoded data removed]",
      "text/plain": [
       "<Figure size 432x288 with 1 Axes>"
      ]
     },
     "metadata": {
      "needs_background": "light"
     },
     "output_type": "display_data"
    },
    {
     "data": {
      "image/png": "[encoded data removed]",
      "text/plain": [
       "<Figure size 432x288 with 1 Axes>"
      ]
     },
     "metadata": {
      "needs_background": "light"
     },
     "output_type": "display_data"
    }
   ],
   "source": [
    "# create histograms\n",
    "df.hist(column='AVGPCE',bins=50)\n",
    "df.hist(column='FSTPCE',bins=50)\n",
    "df.hist(column='SNDPCE',bins=50)\n",
    "df.hist(column='FSTQ',bins=50)\n",
    "df.hist(column='SNDQ',bins=50)\n",
    "df.hist(column='TRDQ',bins=50)\n",
    "df.hist(column='FTHQ',bins=50)\n",
    "# avg pace of negative and positive splitters\n",
    "dfn.hist(column='AVGPCE',bins=50)\n",
    "dfp.hist(column='AVGPCE',bins=50)\n",
    "\n"
   ]
  },
  {
   "cell_type": "markdown",
   "metadata": {},
   "source": [
    "### Include the other descriptive characteristics about the variables: Mean, Mode, Spread, and Tails (Chapter 2)."
   ]
  },
  {
   "cell_type": "code",
   "execution_count": 16,
   "metadata": {},
   "outputs": [
    {
     "data": {
      "text/plain": [
       "(Timedelta('0 days 04:25:42.725705'),\n",
       " 9.260732252546563e+24,\n",
       " Timedelta('0 days 00:50:43.145125'),\n",
       " 0   03:46:59\n",
       " 1   04:13:17\n",
       " 2   04:38:41\n",
       " 3   04:51:20\n",
       " 4   04:59:31\n",
       " 5   05:01:58\n",
       " dtype: timedelta64[ns])"
      ]
     },
     "execution_count": 16,
     "metadata": {},
     "output_type": "execute_result"
    }
   ],
   "source": [
    "df['TIME'].mean(), df['TIME'].var(), df['TIME'].std(), df['TIME'].mode()"
   ]
  },
  {
   "cell_type": "code",
   "execution_count": 17,
   "metadata": {},
   "outputs": [
    {
     "data": {
      "text/plain": [
       "(608.9858934169279, 13489.850781240375, 116.14581689083931, 0    543.0\n",
       " 1    546.0\n",
       " dtype: float64)"
      ]
     },
     "execution_count": 17,
     "metadata": {},
     "output_type": "execute_result"
    }
   ],
   "source": [
    "df['AVGPCE'].mean(), df['AVGPCE'].var(), df['AVGPCE'].std(), df['AVGPCE'].mode()"
   ]
  },
  {
   "cell_type": "code",
   "execution_count": 18,
   "metadata": {},
   "outputs": [
    {
     "data": {
      "text/plain": [
       "(572.0013639948173, 10359.362043814128, 101.78095128173113, 0    412.213740\n",
       " 1    412.366412\n",
       " 2    412.442748\n",
       " 3    493.282443\n",
       " 4    532.519084\n",
       " 5    533.664122\n",
       " 6    540.381679\n",
       " 7    579.160305\n",
       " dtype: float64)"
      ]
     },
     "execution_count": 18,
     "metadata": {},
     "output_type": "execute_result"
    }
   ],
   "source": [
    "df['FSTPCE'].mean(), df['FSTPCE'].var(), df['FSTPCE'].std(), df['FSTPCE'].mode()"
   ]
  },
  {
   "cell_type": "code",
   "execution_count": 19,
   "metadata": {},
   "outputs": [
    {
     "data": {
      "text/plain": [
       "(645.0005982430721, 19327.78075650816, 139.02438907079636, 0    545.496183\n",
       " 1    724.580153\n",
       " dtype: float64)"
      ]
     },
     "execution_count": 19,
     "metadata": {},
     "output_type": "execute_result"
    }
   ],
   "source": [
    "df['SNDPCE'].mean(), df['SNDPCE'].var(), df['SNDPCE'].std(), df['SNDPCE'].mode()"
   ]
  },
  {
   "cell_type": "code",
   "execution_count": 20,
   "metadata": {},
   "outputs": [
    {
     "data": {
      "text/plain": [
       "(564.9948178849833, 9521.532919059397, 97.57834246931742, 0    411.670323\n",
       " dtype: float64)"
      ]
     },
     "execution_count": 20,
     "metadata": {},
     "output_type": "execute_result"
    }
   ],
   "source": [
    "df['FSTQ'].mean(), df['FSTQ'].var(), df['FSTQ'].std(), df['FSTQ'].mode()"
   ]
  },
  {
   "cell_type": "code",
   "execution_count": 21,
   "metadata": {},
   "outputs": [
    {
     "data": {
      "text/plain": [
       "(578.3235847592618, 11544.363007856986, 107.44469743945946, 0    412.994515\n",
       " 1    489.813818\n",
       " 2    548.045464\n",
       " dtype: float64)"
      ]
     },
     "execution_count": 21,
     "metadata": {},
     "output_type": "execute_result"
    }
   ],
   "source": [
    "df['SNDQ'].mean(), df['SNDQ'].var(), df['SNDQ'].std(), df['SNDQ'].mode()"
   ]
  },
  {
   "cell_type": "code",
   "execution_count": 22,
   "metadata": {},
   "outputs": [
    {
     "data": {
      "text/plain": [
       "(631.0082458765636, 21008.008477859014, 144.94139670176708, 0    467.826087\n",
       " 1    516.521739\n",
       " 2    537.971014\n",
       " 3    647.101449\n",
       " 4    784.927536\n",
       " dtype: float64)"
      ]
     },
     "execution_count": 22,
     "metadata": {},
     "output_type": "execute_result"
    }
   ],
   "source": [
    "df['TRDQ'].mean(), df['TRDQ'].var(), df['TRDQ'].std(), df['TRDQ'].mode()"
   ]
  },
  {
   "cell_type": "code",
   "execution_count": 23,
   "metadata": {},
   "outputs": [
    {
     "data": {
      "text/plain": [
       "(659.1152371828987, 20411.422783022204, 142.868550713662, 0    570.190756\n",
       " 1    701.513267\n",
       " dtype: float64)"
      ]
     },
     "execution_count": 23,
     "metadata": {},
     "output_type": "execute_result"
    }
   ],
   "source": [
    "df['FTHQ'].mean(), df['FTHQ'].var(), df['FTHQ'].std(), df['FTHQ'].mode()"
   ]
  },
  {
   "cell_type": "code",
   "execution_count": 24,
   "metadata": {},
   "outputs": [
    {
     "data": {
      "text/plain": [
       "dict_keys(['Neg', 'Pos'])"
      ]
     },
     "execution_count": 24,
     "metadata": {},
     "output_type": "execute_result"
    }
   ],
   "source": [
    "df.groupby(['PACING']).groups.keys()"
   ]
  },
  {
   "cell_type": "code",
   "execution_count": 25,
   "metadata": {},
   "outputs": [
    {
     "data": {
      "text/plain": [
       "(528.7697841726618, 8835.091544155985, 93.99516766385379, 0    408.0\n",
       " 1    412.0\n",
       " 2    464.0\n",
       " 3    483.0\n",
       " 4    524.0\n",
       " 5    527.0\n",
       " 6    541.0\n",
       " dtype: float64)"
      ]
     },
     "execution_count": 25,
     "metadata": {},
     "output_type": "execute_result"
    }
   ],
   "source": [
    "df['AVGPCE'][df['PACING'] == 'Neg'].mean(), df['AVGPCE'][df['PACING'] == 'Neg'].var(), df['AVGPCE'][df['PACING'] == 'Neg'].std(),  df['AVGPCE'][df['PACING'] == 'Neg'].mode()"
   ]
  },
  {
   "cell_type": "code",
   "execution_count": 26,
   "metadata": {},
   "outputs": [
    {
     "data": {
      "text/plain": [
       "(618.792436235708, 13183.592442739113, 114.81982600029976, 0    646.0\n",
       " dtype: float64)"
      ]
     },
     "execution_count": 26,
     "metadata": {},
     "output_type": "execute_result"
    }
   ],
   "source": [
    "df['AVGPCE'][df['PACING'] == 'Pos'].mean(), df['AVGPCE'][df['PACING'] == 'Pos'].var(), df['AVGPCE'][df['PACING'] == 'Pos'].std(),  df['AVGPCE'][df['PACING'] == 'Pos'].mode()"
   ]
  },
  {
   "cell_type": "markdown",
   "metadata": {},
   "source": [
    "### Using pg. 29 of your text as an example, compare two scenarios in your data using a PMF. Reminder, this isn’t comparing two variables against each other – it is the same variable, but a different scenario. Almost like a filter. The example in the book is first babies compared to all other babies, it is still the same variable, but breaking the data out based on criteria we are exploring (Chapter 3)."
   ]
  },
  {
   "cell_type": "code",
   "execution_count": 27,
   "metadata": {},
   "outputs": [],
   "source": [
    "pmfA = thinkstats2.Pmf(dfn['FSTPCE'])\n",
    "pmfB = thinkstats2.Pmf(dfn['SNDPCE'])"
   ]
  },
  {
   "cell_type": "code",
   "execution_count": 28,
   "metadata": {},
   "outputs": [],
   "source": [
    "pmf1st = thinkstats2.Pmf(df['FSTPCE'], label='First Half Pace')\n",
    "pmf2nd = thinkstats2.Pmf(df['SNDPCE'], label='Second Half Pace')"
   ]
  },
  {
   "cell_type": "code",
   "execution_count": 29,
   "metadata": {},
   "outputs": [
    {
     "data": {
      "image/png": "[encoded data removed]",
      "text/plain": [
       "<Figure size 864x432 with 1 Axes>"
      ]
     },
     "metadata": {
      "needs_background": "light"
     },
     "output_type": "display_data"
    }
   ],
   "source": [
    "width=20\n",
    "axis = [200, 1000, 0, 0.02]\n",
    "thinkplot.PrePlot(2, cols=2)\n",
    "thinkplot.Hist(pmfA, align='right')\n",
    "thinkplot.Hist(pmfB, align='left',width=width)\n",
    "thinkplot.Config(xlabel='pace',ylabel='PMF',axis=axis)"
   ]
  },
  {
   "cell_type": "code",
   "execution_count": 30,
   "metadata": {},
   "outputs": [
    {
     "data": {
      "image/png": "[encoded data removed]",
      "text/plain": [
       "<Figure size 432x288 with 1 Axes>"
      ]
     },
     "metadata": {
      "needs_background": "light"
     },
     "output_type": "display_data"
    }
   ],
   "source": [
    "axis = [250, 1250, 0, .004]\n",
    "thinkplot.PrePlot(2)\n",
    "thinkplot.SubPlot(2)\n",
    "thinkplot.Pmfs([pmf1st, pmf2nd])\n",
    "thinkplot.Config(xlabel='Pace',ylabel='Probability', axis=axis)"
   ]
  },
  {
   "cell_type": "markdown",
   "metadata": {},
   "source": [
    "### Create 1 CDF with one of your variables, using page 41-44 as your guide, what does this tell you about your variable and how does it address the question you are trying to answer (Chapter 4)."
   ]
  },
  {
   "cell_type": "code",
   "execution_count": 31,
   "metadata": {},
   "outputs": [],
   "source": [
    "# Create CDF\n",
    "overall_pace=df['AVGPCE']\n",
    "overall_pace=df['AVGPCE'].dropna()\n",
    "overall_cdf=thinkstats2.Cdf(overall_pace, label='Overall')\n",
    "\n",
    "FSTPCE_pace=df['FSTPCE']\n",
    "FSTPCE_pace=df['FSTPCE'].dropna()\n",
    "FSTPCE_cdf=thinkstats2.Cdf(FSTPCE_pace, label='1st Half Pace')\n",
    "\n",
    "SNDPCE_pace=df['SNDPCE']\n",
    "SNDPCE_pace=df['SNDPCE'].dropna()\n",
    "SNDPCE_cdf=thinkstats2.Cdf(SNDPCE_pace, label='Second Half Pace')"
   ]
  },
  {
   "cell_type": "code",
   "execution_count": 32,
   "metadata": {},
   "outputs": [
    {
     "data": {
      "image/png": "[encoded data removed]",
      "text/plain": [
       "<Figure size 432x288 with 1 Axes>"
      ]
     },
     "metadata": {
      "needs_background": "light"
     },
     "output_type": "display_data"
    },
    {
     "data": {
      "text/plain": [
       "<Figure size 576x432 with 0 Axes>"
      ]
     },
     "metadata": {},
     "output_type": "display_data"
    }
   ],
   "source": [
    "# Plot CDF\n",
    "thinkplot.PrePlot(3)\n",
    "thinkplot.Cdfs([overall_cdf,FSTPCE_cdf,SNDPCE_cdf])\n",
    "thinkplot.Show(xlabel='Seconds Per Mile',ylabel='CDF')"
   ]
  },
  {
   "cell_type": "markdown",
   "metadata": {},
   "source": [
    "### Plot 1 analytical distribution and provide your analysis on how it applies to the dataset you have chosen.\n",
    "Used Lognormal model, explained on page 56\n",
    "https://en.wikipedia.org/wiki/Log-normal_distribution\n"
   ]
  },
  {
   "cell_type": "code",
   "execution_count": 33,
   "metadata": {},
   "outputs": [],
   "source": [
    "# The following function estimates the parameters of a normal distribution and \n",
    "# plots the data and a normal model.\n",
    "\n",
    "avgpace=df['AVGPCE']\n",
    "\n",
    "def MakeNormalModel(avgpace):\n",
    "    cdf = thinkstats2.Cdf(avgpace, label='Average Pace')\n",
    "\n",
    "    mean, var = thinkstats2.TrimmedMeanVar(avgpace)\n",
    "    std = np.sqrt(var)\n",
    "    print('n, mean, std', len(avgpace), mean, std)\n",
    "\n",
    "    xmin = mean - 4 * std\n",
    "    xmax = mean + 4 * std\n",
    "\n",
    "    xs, ps = thinkstats2.RenderNormalCdf(mean, std, xmin, xmax)\n",
    "    thinkplot.Plot(xs, ps, label='Model', linewidth=4, color='0.8')\n",
    "    thinkplot.Cdf(cdf)"
   ]
  },
  {
   "cell_type": "code",
   "execution_count": 34,
   "metadata": {},
   "outputs": [
    {
     "name": "stdout",
     "output_type": "stream",
     "text": [
      "n, mean, std 1276 608.388178913738 110.18176728067392\n"
     ]
    },
    {
     "data": {
      "image/png": "[encoded data removed]",
      "text/plain": [
       "<Figure size 432x288 with 1 Axes>"
      ]
     },
     "metadata": {
      "needs_background": "light"
     },
     "output_type": "display_data"
    }
   ],
   "source": [
    "#Here's the distribution of average pace and a normal model, \n",
    "\n",
    "MakeNormalModel(avgpace)\n",
    "thinkplot.Config(title='Average Pace, linear scale', xlabel='Seconds per mile',\n",
    "                 ylabel='CDF', loc='upper left')"
   ]
  },
  {
   "cell_type": "code",
   "execution_count": 35,
   "metadata": {},
   "outputs": [
    {
     "name": "stdout",
     "output_type": "stream",
     "text": [
      "n, mean, std 1276 2.7770564137582054 0.07887863035819541\n"
     ]
    },
    {
     "data": {
      "image/png": "[encoded data removed]",
      "text/plain": [
       "<Figure size 432x288 with 1 Axes>"
      ]
     },
     "metadata": {
      "needs_background": "light"
     },
     "output_type": "display_data"
    }
   ],
   "source": [
    "# distribution of average pace and a lognormal model, \n",
    "# plotted on a log-x scale. The model is a better fit for the data, \n",
    "# although the slower runners are slower than the model expects.\n",
    "\n",
    "log_paces = np.log10(avgpace)\n",
    "MakeNormalModel(log_paces)\n",
    "thinkplot.Config(title='Average Pace, log scale', xlabel='Pace (log10 seconds)',\n",
    "                 ylabel='CDF', loc='upper left')"
   ]
  },
  {
   "cell_type": "code",
   "execution_count": 36,
   "metadata": {},
   "outputs": [],
   "source": [
    "#The following function generates a normal probability plot.\n",
    "def MakeNormalPlot(avgpace):\n",
    "\n",
    "    mean, var = thinkstats2.TrimmedMeanVar(avgpace, p=0.01)\n",
    "    std = np.sqrt(var)\n",
    "\n",
    "    xs = [-5, 5]\n",
    "    xs, ys = thinkstats2.FitLine(xs, mean, std)\n",
    "    thinkplot.Plot(xs, ys, color='0.8', label='model')\n",
    "\n",
    "    xs, ys = thinkstats2.NormalProbability(avgpace)\n",
    "    thinkplot.Plot(xs, ys, label='Pace')"
   ]
  },
  {
   "cell_type": "code",
   "execution_count": 37,
   "metadata": {},
   "outputs": [
    {
     "data": {
      "image/png": "[encoded data removed]",
      "text/plain": [
       "<Figure size 432x288 with 1 Axes>"
      ]
     },
     "metadata": {
      "needs_background": "light"
     },
     "output_type": "display_data"
    }
   ],
   "source": [
    "# generate a normal probability plot with average, data deviate from the model\n",
    "\n",
    "MakeNormalPlot(avgpace)\n",
    "thinkplot.Config(title='Average Pace, normal plot', xlabel='Pace',\n",
    "                 ylabel='CDF', loc='upper left')"
   ]
  },
  {
   "cell_type": "code",
   "execution_count": 38,
   "metadata": {},
   "outputs": [],
   "source": [
    "# If we make a normal probability plot with log weights, the model fit \n",
    "# the data well except in the tails, where the slowest people exceed \n",
    "# expectations."
   ]
  },
  {
   "cell_type": "code",
   "execution_count": 39,
   "metadata": {},
   "outputs": [
    {
     "data": {
      "image/png": "[encoded data removed]",
      "text/plain": [
       "<Figure size 432x288 with 1 Axes>"
      ]
     },
     "metadata": {
      "needs_background": "light"
     },
     "output_type": "display_data"
    }
   ],
   "source": [
    "MakeNormalPlot(log_paces)\n",
    "thinkplot.Config(title='Average Pace, lognormal plot', xlabel='Pace (log10 seconds)',\n",
    "                 ylabel='CDF', loc='upper left')"
   ]
  },
  {
   "cell_type": "markdown",
   "metadata": {},
   "source": [
    "### Create two scatter plots comparing two variables and provide your analysis on correlation and causation. Remember, covariance, Pearson’s correlation, and Non-Linear Relationships should also be considered during your analysis (Chapter 7)."
   ]
  },
  {
   "cell_type": "code",
   "execution_count": 40,
   "metadata": {},
   "outputs": [
    {
     "data": {
      "image/png": "[encoded data removed]",
      "text/plain": [
       "<Figure size 432x288 with 1 Axes>"
      ]
     },
     "metadata": {
      "needs_background": "light"
     },
     "output_type": "display_data"
    }
   ],
   "source": [
    "# Compare first and second half paces\n",
    "FSTPCE=df['FSTPCE']\n",
    "SNDPCE=df['SNDPCE']\n",
    "\n",
    "thinkplot.Scatter(FSTPCE, SNDPCE, alpha=0.2)\n",
    "thinkplot.Config(xlabel='First half pace',\n",
    "                    ylabel='Second half pace')"
   ]
  },
  {
   "cell_type": "code",
   "execution_count": 41,
   "metadata": {},
   "outputs": [],
   "source": [
    "#pg 84\n",
    "def Cov(xs, ys, meanx=None, meany=None):\n",
    "    xs = np.asarray(xs)\n",
    "    ys = np.asarray(ys)\n",
    "\n",
    "    if meanx is None:\n",
    "        meanx = np.mean(xs)\n",
    "    if meany is None:\n",
    "        meany = np.mean(ys)\n",
    "\n",
    "    cov = np.dot(xs-meanx, ys-meany) / len(xs)\n",
    "    return cov\n",
    "\n",
    "#pg 85\n",
    "def Corr(xs, ys):\n",
    "    xs = np.asarray(xs)\n",
    "    ys = np.asarray(ys)\n",
    "\n",
    "    meanx, varx = thinkstats2.MeanVar(xs)\n",
    "    meany, vary = thinkstats2.MeanVar(ys)\n",
    "\n",
    "    corr = Cov(xs, ys, meanx, meany) / np.sqrt(varx * vary)\n",
    "    return corr\n",
    "\n",
    "#pg 87\n",
    "def SpearmanCorr(xs, ys):\n",
    "    xranks = pd.Series(xs).rank()\n",
    "    yranks = pd.Series(ys).rank()\n",
    "    return Corr(xranks, yranks)"
   ]
  },
  {
   "cell_type": "code",
   "execution_count": 42,
   "metadata": {},
   "outputs": [
    {
     "data": {
      "image/png": "[encoded data removed]",
      "text/plain": [
       "<Figure size 432x288 with 1 Axes>"
      ]
     },
     "metadata": {
      "needs_background": "light"
     },
     "output_type": "display_data"
    }
   ],
   "source": [
    "# Plot First half amd average pace\n",
    "AVRGPCE=df['AVGPCE']\n",
    "FSTPCE=df['FSTPCE']\n",
    "\n",
    "\n",
    "thinkplot.Scatter(AVRGPCE, FSTPCE, alpha=0.2)\n",
    "thinkplot.Config(xlabel='Average pace',\n",
    "                    ylabel='First half pace')"
   ]
  },
  {
   "cell_type": "code",
   "execution_count": 43,
   "metadata": {},
   "outputs": [
    {
     "data": {
      "text/plain": [
       "0.9515096654620224"
      ]
     },
     "execution_count": 43,
     "metadata": {},
     "output_type": "execute_result"
    }
   ],
   "source": [
    "# First half comparison to average pace\n",
    "\n",
    "Corr(FSTPCE, AVRGPCE)"
   ]
  },
  {
   "cell_type": "code",
   "execution_count": 44,
   "metadata": {},
   "outputs": [
    {
     "data": {
      "text/plain": [
       "0.9517187086911902"
      ]
     },
     "execution_count": 44,
     "metadata": {},
     "output_type": "execute_result"
    }
   ],
   "source": [
    "SpearmanCorr(FSTPCE, AVRGPCE)"
   ]
  },
  {
   "cell_type": "code",
   "execution_count": 45,
   "metadata": {},
   "outputs": [
    {
     "data": {
      "image/png": "[encoded data removed]",
      "text/plain": [
       "<Figure size 432x288 with 1 Axes>"
      ]
     },
     "metadata": {
      "needs_background": "light"
     },
     "output_type": "display_data"
    }
   ],
   "source": [
    "# Plot fourth quarter and average pace\n",
    "FTHPCE=df['FTHQ']\n",
    "\n",
    "\n",
    "thinkplot.Scatter(AVRGPCE, FTHPCE, alpha=0.2)\n",
    "thinkplot.Config(xlabel='Average pace',\n",
    "                    ylabel='4th Quarter pace')"
   ]
  },
  {
   "cell_type": "code",
   "execution_count": 46,
   "metadata": {},
   "outputs": [
    {
     "data": {
      "text/plain": [
       "0.9031800951515844"
      ]
     },
     "execution_count": 46,
     "metadata": {},
     "output_type": "execute_result"
    }
   ],
   "source": [
    "# fourth comparison to average pace\n",
    "Corr(FTHPCE, AVRGPCE)"
   ]
  },
  {
   "cell_type": "code",
   "execution_count": 47,
   "metadata": {},
   "outputs": [
    {
     "data": {
      "text/plain": [
       "0.9214131163196431"
      ]
     },
     "execution_count": 47,
     "metadata": {},
     "output_type": "execute_result"
    }
   ],
   "source": [
    "SpearmanCorr(FTHPCE, AVRGPCE)"
   ]
  },
  {
   "cell_type": "markdown",
   "metadata": {},
   "source": [
    "### Conduct a test on your hypothesis using one of the methods covered in Chapter 9"
   ]
  },
  {
   "cell_type": "code",
   "execution_count": 48,
   "metadata": {},
   "outputs": [],
   "source": [
    "class DiffMeansPermute(thinkstats2.HypothesisTest):\n",
    "\n",
    "    def TestStatistic(self, data):\n",
    "        group1, group2 = data\n",
    "        test_stat = abs(group1.mean() - group2.mean())\n",
    "        return test_stat\n",
    "\n",
    "    def MakeModel(self):\n",
    "        group1, group2 = self.data\n",
    "        self.n, self.m = len(group1), len(group2)\n",
    "        self.pool = np.hstack((group1, group2))\n",
    "\n",
    "    def RunModel(self):\n",
    "        np.random.shuffle(self.pool)\n",
    "        data = self.pool[:self.n], self.pool[self.n:]\n",
    "        return data"
   ]
  },
  {
   "cell_type": "code",
   "execution_count": 49,
   "metadata": {},
   "outputs": [
    {
     "data": {
      "text/plain": [
       "0.0"
      ]
     },
     "execution_count": 49,
     "metadata": {},
     "output_type": "execute_result"
    }
   ],
   "source": [
    "data1 = dfp.AVGPCE.values, dfn.AVGPCE.values\n",
    "ht = DiffMeansPermute(data1)\n",
    "pvalue = ht.PValue()\n",
    "pvalue"
   ]
  },
  {
   "cell_type": "markdown",
   "metadata": {},
   "source": [
    "P is 0, conclude difference in average pace of the two groups is significant"
   ]
  },
  {
   "cell_type": "code",
   "execution_count": 50,
   "metadata": {},
   "outputs": [
    {
     "data": {
      "image/png": "[encoded data removed]",
      "text/plain": [
       "<Figure size 432x288 with 1 Axes>"
      ]
     },
     "metadata": {
      "needs_background": "light"
     },
     "output_type": "display_data"
    },
    {
     "data": {
      "text/plain": [
       "<Figure size 576x432 with 0 Axes>"
      ]
     },
     "metadata": {},
     "output_type": "display_data"
    }
   ],
   "source": [
    "ht.PlotCdf()\n",
    "thinkplot.Show(xlabel='test statistic', ylabel='CDF')"
   ]
  },
  {
   "cell_type": "markdown",
   "metadata": {},
   "source": [
    "### For this project, conduct a regression analysis on either one dependent and one explanatory variable, or multiple explanatory variables (Chapter 10 & 11)."
   ]
  },
  {
   "cell_type": "code",
   "execution_count": 51,
   "metadata": {},
   "outputs": [
    {
     "name": "stdout",
     "output_type": "stream",
     "text": [
      "                            OLS Regression Results                            \n",
      "==============================================================================\n",
      "Dep. Variable:                 AVGPCE   R-squared:                       0.994\n",
      "Model:                            OLS   Adj. R-squared:                  0.994\n",
      "Method:                 Least Squares   F-statistic:                 2.231e+04\n",
      "Date:                Wed, 26 Feb 2020   Prob (F-statistic):          1.41e-153\n",
      "Time:                        09:05:40   Log-Likelihood:                -473.88\n",
      "No. Observations:                 139   AIC:                             951.8\n",
      "Df Residuals:                     137   BIC:                             957.6\n",
      "Df Model:                           1                                         \n",
      "Covariance Type:            nonrobust                                         \n",
      "==============================================================================\n",
      "                 coef    std err          t      P>|t|      [0.025      0.975]\n",
      "------------------------------------------------------------------------------\n",
      "Intercept      6.6314      3.551      1.867      0.064      -0.391      13.654\n",
      "FSTPCE         0.9754      0.007    149.353      0.000       0.963       0.988\n",
      "==============================================================================\n",
      "Omnibus:                       63.500   Durbin-Watson:                   2.029\n",
      "Prob(Omnibus):                  0.000   Jarque-Bera (JB):              177.825\n",
      "Skew:                          -1.850   Prob(JB):                     2.43e-39\n",
      "Kurtosis:                       7.124   Cond. No.                     3.09e+03\n",
      "==============================================================================\n",
      "\n",
      "Warnings:\n",
      "[1] Standard Errors assume that the covariance matrix of the errors is correctly specified.\n",
      "[2] The condition number is large, 3.09e+03. This might indicate that there are\n",
      "strong multicollinearity or other numerical problems.\n"
     ]
    }
   ],
   "source": [
    "# dataframe, negative splitters\n",
    "formula1 = 'AVGPCE ~ FSTPCE'\n",
    "model = smf.ols(formula1, data=dfn)\n",
    "results = model.fit()\n",
    "print(results.summary())"
   ]
  },
  {
   "cell_type": "code",
   "execution_count": 52,
   "metadata": {},
   "outputs": [
    {
     "name": "stdout",
     "output_type": "stream",
     "text": [
      "                            OLS Regression Results                            \n",
      "==============================================================================\n",
      "Dep. Variable:                 AVGPCE   R-squared:                       0.993\n",
      "Model:                            OLS   Adj. R-squared:                  0.993\n",
      "Method:                 Least Squares   F-statistic:                 2.040e+04\n",
      "Date:                Wed, 26 Feb 2020   Prob (F-statistic):          6.08e-151\n",
      "Time:                        09:05:40   Log-Likelihood:                -480.03\n",
      "No. Observations:                 139   AIC:                             964.1\n",
      "Df Residuals:                     137   BIC:                             969.9\n",
      "Df Model:                           1                                         \n",
      "Covariance Type:            nonrobust                                         \n",
      "==============================================================================\n",
      "                 coef    std err          t      P>|t|      [0.025      0.975]\n",
      "------------------------------------------------------------------------------\n",
      "Intercept      0.9210      3.753      0.245      0.806      -6.499       8.341\n",
      "SNDPCE         1.0124      0.007    142.846      0.000       0.998       1.026\n",
      "==============================================================================\n",
      "Omnibus:                       73.381   Durbin-Watson:                   2.052\n",
      "Prob(Omnibus):                  0.000   Jarque-Bera (JB):              247.471\n",
      "Skew:                           2.076   Prob(JB):                     1.83e-54\n",
      "Kurtosis:                       8.049   Cond. No.                     3.04e+03\n",
      "==============================================================================\n",
      "\n",
      "Warnings:\n",
      "[1] Standard Errors assume that the covariance matrix of the errors is correctly specified.\n",
      "[2] The condition number is large, 3.04e+03. This might indicate that there are\n",
      "strong multicollinearity or other numerical problems.\n"
     ]
    }
   ],
   "source": [
    "# dataframe, negative splitters\n",
    "formula2 = 'AVGPCE ~ SNDPCE'\n",
    "model = smf.ols(formula2, data=dfn)\n",
    "results = model.fit()\n",
    "print(results.summary())"
   ]
  },
  {
   "cell_type": "code",
   "execution_count": 53,
   "metadata": {},
   "outputs": [
    {
     "name": "stdout",
     "output_type": "stream",
     "text": [
      "                            OLS Regression Results                            \n",
      "==============================================================================\n",
      "Dep. Variable:                 AVGPCE   R-squared:                       0.910\n",
      "Model:                            OLS   Adj. R-squared:                  0.910\n",
      "Method:                 Least Squares   F-statistic:                 1.146e+04\n",
      "Date:                Wed, 26 Feb 2020   Prob (F-statistic):               0.00\n",
      "Time:                        09:05:40   Log-Likelihood:                -5638.0\n",
      "No. Observations:                1137   AIC:                         1.128e+04\n",
      "Df Residuals:                    1135   BIC:                         1.129e+04\n",
      "Df Model:                           1                                         \n",
      "Covariance Type:            nonrobust                                         \n",
      "==============================================================================\n",
      "                 coef    std err          t      P>|t|      [0.025      0.975]\n",
      "------------------------------------------------------------------------------\n",
      "Intercept     -2.7088      5.896     -0.459      0.646     -14.277       8.859\n",
      "FSTPCE         1.0781      0.010    107.037      0.000       1.058       1.098\n",
      "==============================================================================\n",
      "Omnibus:                      445.070   Durbin-Watson:                   1.618\n",
      "Prob(Omnibus):                  0.000   Jarque-Bera (JB):             2215.191\n",
      "Skew:                           1.768   Prob(JB):                         0.00\n",
      "Kurtosis:                       8.853   Cond. No.                     3.37e+03\n",
      "==============================================================================\n",
      "\n",
      "Warnings:\n",
      "[1] Standard Errors assume that the covariance matrix of the errors is correctly specified.\n",
      "[2] The condition number is large, 3.37e+03. This might indicate that there are\n",
      "strong multicollinearity or other numerical problems.\n"
     ]
    }
   ],
   "source": [
    "# dataframe, positive splitters\n",
    "model = smf.ols(formula1, data=dfp)\n",
    "results = model.fit()\n",
    "print(results.summary())"
   ]
  },
  {
   "cell_type": "code",
   "execution_count": 54,
   "metadata": {},
   "outputs": [
    {
     "name": "stdout",
     "output_type": "stream",
     "text": [
      "                            OLS Regression Results                            \n",
      "==============================================================================\n",
      "Dep. Variable:                 AVGPCE   R-squared:                       0.950\n",
      "Model:                            OLS   Adj. R-squared:                  0.950\n",
      "Method:                 Least Squares   F-statistic:                 2.150e+04\n",
      "Date:                Wed, 26 Feb 2020   Prob (F-statistic):               0.00\n",
      "Time:                        09:05:40   Log-Likelihood:                -5304.7\n",
      "No. Observations:                1137   AIC:                         1.061e+04\n",
      "Df Residuals:                    1135   BIC:                         1.062e+04\n",
      "Df Model:                           1                                         \n",
      "Covariance Type:            nonrobust                                         \n",
      "==============================================================================\n",
      "                 coef    std err          t      P>|t|      [0.025      0.975]\n",
      "------------------------------------------------------------------------------\n",
      "Intercept     76.4901      3.777     20.254      0.000      69.080      83.900\n",
      "SNDPCE         0.8215      0.006    146.619      0.000       0.811       0.833\n",
      "==============================================================================\n",
      "Omnibus:                      192.990   Durbin-Watson:                   1.692\n",
      "Prob(Omnibus):                  0.000   Jarque-Bera (JB):              644.371\n",
      "Skew:                          -0.815   Prob(JB):                    1.19e-140\n",
      "Kurtosis:                       6.308   Cond. No.                     3.34e+03\n",
      "==============================================================================\n",
      "\n",
      "Warnings:\n",
      "[1] Standard Errors assume that the covariance matrix of the errors is correctly specified.\n",
      "[2] The condition number is large, 3.34e+03. This might indicate that there are\n",
      "strong multicollinearity or other numerical problems.\n"
     ]
    }
   ],
   "source": [
    "# dataframe, positive splitters\n",
    "model = smf.ols(formula2, data=dfp)\n",
    "results = model.fit()\n",
    "print(results.summary())"
   ]
  }
 ],
 "metadata": {
  "kernelspec": {
   "display_name": "Python 3",
   "language": "python",
   "name": "python3"
  },
  "language_info": {
   "codemirror_mode": {
    "name": "ipython",
    "version": 3
   },
   "file_extension": ".py",
   "mimetype": "text/x-python",
   "name": "python",
   "nbconvert_exporter": "python",
   "pygments_lexer": "ipython3",
   "version": "3.7.4"
  }
 },
 "nbformat": 4,
 "nbformat_minor": 2
}
